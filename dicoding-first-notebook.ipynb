{
 "cells": [
  {
   "cell_type": "markdown",
   "metadata": {},
   "source": [
    "# Proyek Analisis Data: Bike Sharing Dataset\n",
    "- **Nama:** Muhammad Surya Putra\n",
    "- **Email:** muhammadsuryaputra3@gmail.com\n",
    "- **ID Dicoding:** Muhammad Surya Putra"
   ]
  },
  {
   "cell_type": "markdown",
   "metadata": {},
   "source": [
    "## Menentukan Pertanyaan Bisnis\n",
    "\n",
    "- Pertanyaan 1: Bagaimana distribusi peminjaman untuk masing-masing musim dan kondisi cuaca?\n",
    "- Pertanyaan 2: Pengaruh hari kerja/ akhir pekan terhadap peminjaman untuk setiap musim?"
   ]
  },
  {
   "cell_type": "markdown",
   "metadata": {},
   "source": [
    "## Import library yang diperlukan"
   ]
  },
  {
   "cell_type": "code",
   "execution_count": 117,
   "metadata": {},
   "outputs": [],
   "source": [
    "# Import library yang diperlukan\n",
    "import streamlit as st\n",
    "import pandas as pd\n",
    "import seaborn as sns\n",
    "import matplotlib.pyplot as plt"
   ]
  },
  {
   "cell_type": "markdown",
   "metadata": {},
   "source": [
    "## Data Wrangling"
   ]
  },
  {
   "cell_type": "markdown",
   "metadata": {},
   "source": [
    "### Gathering Data"
   ]
  },
  {
   "cell_type": "markdown",
   "metadata": {},
   "source": [
    "Disini awal proses gathering data tentunya memnggil atau membaca terlebih dahulu data yaitu pada data day.csv "
   ]
  },
  {
   "cell_type": "code",
   "execution_count": 118,
   "metadata": {},
   "outputs": [
    {
     "name": "stderr",
     "output_type": "stream",
     "text": [
      "2024-03-12 11:05:18.447 No runtime found, using MemoryCacheStorageManager\n"
     ]
    }
   ],
   "source": [
    "# Fungsi untuk mengimpor data\n",
    "@st.cache_data\n",
    "def load_data():\n",
    "    data_df = pd.read_csv('day.csv')\n",
    "    return data_df\n",
    "\n",
    "# Fungsi untuk melakukan pembersihan data\n",
    "def clean_data(data_df):\n",
    "    data_df['season'] = data_df['season'].map({1: 'Spring', 2: 'Summer', 3: 'Fall', 4: 'Winter'})\n",
    "    return data_df\n",
    "\n",
    "# Fungsi untuk menampilkan gathering data\n",
    "def gather_data(data_df):\n",
    "    st.subheader(\"Gathering Data\")\n",
    "    st.write(\"Berikut merupakan dataset dari Bike Sharing pada skala hari\")\n",
    "    st.write(data_df)"
   ]
  },
  {
   "cell_type": "markdown",
   "metadata": {},
   "source": [
    "### Assesing Data"
   ]
  },
  {
   "cell_type": "markdown",
   "metadata": {},
   "source": [
    "Pada proses ini digunakan fungsi describe"
   ]
  },
  {
   "cell_type": "code",
   "execution_count": 119,
   "metadata": {},
   "outputs": [],
   "source": [
    "# Fungsi untuk menampilkan assessing data\n",
    "def assess_data(data_df):\n",
    "    st.subheader(\"Assessing Data\")\n",
    "    st.write(\"Melakukan pemeriksaan parameter statistik menggunakan metode describe()\")\n",
    "    st.write(data_df.describe())"
   ]
  },
  {
   "cell_type": "markdown",
   "metadata": {},
   "source": [
    "### Cleaning Data"
   ]
  },
  {
   "cell_type": "markdown",
   "metadata": {},
   "source": [
    "Proses ini adalah proses untuk membersihkan data dan juga membuat data agar lebih baik ketika ditampilkan dan dapat diterima oleh pembaca, digunakan fungsi clean untuk membersihkan data dari data NaN, sehingga analisis bisa dilakukan tanpa terjadi error perhitungan"
   ]
  },
  {
   "cell_type": "code",
   "execution_count": 120,
   "metadata": {},
   "outputs": [],
   "source": [
    "# Fungsi untuk menampilkan cleaning data\n",
    "def clean_data_display(data_df):\n",
    "    st.subheader(\"Cleaning Data\")\n",
    "    st.write(\"Mengubah nilai dari parameter 'season' menjadi nama musim\")\n",
    "    cleaned_data_df = clean_data(data_df.copy())\n",
    "    st.write(cleaned_data_df)"
   ]
  },
  {
   "cell_type": "markdown",
   "metadata": {},
   "source": [
    "## Exploratory Data Analysis (EDA)"
   ]
  },
  {
   "cell_type": "markdown",
   "metadata": {},
   "source": [
    "### Exploratory"
   ]
  },
  {
   "cell_type": "markdown",
   "metadata": {},
   "source": [
    "Digunakan plotting data bar chart untuk mendisplay data agar dapat di eksplore lebih lanjut dengan fungsi barplot dan scatterplot dengan pyplot diberi kan fungsi pyplot(fig)"
   ]
  },
  {
   "cell_type": "code",
   "execution_count": 121,
   "metadata": {},
   "outputs": [],
   "source": [
    "# Fungsi untuk menjawab pertanyaan EDA\n",
    "def eda_questions(data_df):\n",
    "    st.subheader('Exploratory Data Analysis (EDA)')\n",
    "    \n",
    "    # Pertanyaan 1\n",
    "    st.markdown(\"### Pertanyaan 1: Distribusi Peminjaman untuk Masing-masing Musim dan Kondisi Cuaca\")\n",
    "    st.write(\"Bagaimana distribusi peminjaman untuk masing-masing musim dan kondisi cuaca?\")\n",
    "    st.write(\"Melakukan pemetaan tabel menggunakan pivot table\")\n",
    "    data_df['season'] = data_df['season'].map({1: 'Spring', 2: 'Summer', 3: 'Fall', 4: 'Winter'})\n",
    "    data_musim = data_df.groupby(by=[\"season\", \"weathersit\"]).agg({\n",
    "        \"casual\": \"nunique\",\n",
    "        \"registered\": \"nunique\"\n",
    "    })\n",
    "    st.write(data_musim)\n",
    "    st.write('Grafik')\n",
    "    data_musim['total'] = data_musim['casual'] + data_musim['registered']\n",
    "    fig, ax = plt.subplots()\n",
    "    sns.barplot(data=data_musim, x=\"season\", y=\"total\", hue=\"weathersit\", errorbar=None, ax=ax)\n",
    "    st.pyplot(fig)\n",
    "\n",
    "    # Pertanyaan 2\n",
    "    st.markdown(\"### Pertanyaan 2: Pengaruh Hari Kerja/Akhir Pekan terhadap Peminjaman untuk Setiap Musim\")\n",
    "    st.write(\"Pengaruh hari kerja/ akhir pekan terhadap peminjaman untuk setiap musim?\")\n",
    "    st.write(\"Melakukan pemetaan tabel menggunakan pivot table\")\n",
    "    data_holiday = data_df.groupby(by=\"season\").agg({\n",
    "        \"casual\": \"nunique\",\n",
    "        \"registered\": \"nunique\",\n",
    "    })\n",
    "    st.write(data_holiday)\n",
    "    st.write('Grafik')\n",
    "    data_holiday['total'] = data_holiday['casual'] + data_holiday['registered']\n",
    "    fig, ax = plt.subplots()\n",
    "    sns.scatterplot(data=data_holiday, x='season', y='casual', ax=ax)\n",
    "    sns.scatterplot(data=data_holiday, x='season', y='registered', ax=ax)\n",
    "    ax.set_ylim(150, 190)\n",
    "    st.pyplot(fig)"
   ]
  },
  {
   "cell_type": "markdown",
   "metadata": {},
   "source": [
    "## Visualization & Explanatory Analysis"
   ]
  },
  {
   "cell_type": "markdown",
   "metadata": {},
   "source": [
    "### Pertanyaan 1 dan 2: "
   ]
  },
  {
   "cell_type": "code",
   "execution_count": 122,
   "metadata": {},
   "outputs": [],
   "source": [
    "# Fungsi untuk menjawab pertanyaan EDA\n",
    "def eda_questions(data_df):\n",
    "    st.subheader('Exploratory Data Analysis (EDA)')\n",
    "    \n",
    "    # Pertanyaan 1\n",
    "    st.markdown(\"### Pertanyaan 1: Distribusi Peminjaman untuk Masing-masing Musim dan Kondisi Cuaca\")\n",
    "    st.write(\"Bagaimana distribusi peminjaman untuk masing-masing musim dan kondisi cuaca?\")\n",
    "    st.write(\"Melakukan pemetaan tabel menggunakan pivot table\")\n",
    "    data_df['season'] = data_df['season'].map({1: 'Spring', 2: 'Summer', 3: 'Fall', 4: 'Winter'})\n",
    "    data_musim = data_df.groupby(by=[\"season\", \"weathersit\"]).agg({\n",
    "        \"casual\": \"nunique\",\n",
    "        \"registered\": \"nunique\"\n",
    "    })\n",
    "    st.write(data_musim)\n",
    "    st.write('Grafik')\n",
    "    data_musim['total'] = data_musim['casual'] + data_musim['registered']\n",
    "    fig, ax = plt.subplots()\n",
    "    sns.barplot(data=data_musim, x=\"season\", y=\"total\", hue=\"weathersit\", errorbar=None, ax=ax)\n",
    "    st.pyplot(fig)\n",
    "\n",
    "\n",
    "    # Pertanyaan 2\n",
    "    st.markdown(\"### Pertanyaan 2: Pengaruh Hari Kerja/Akhir Pekan terhadap Peminjaman untuk Setiap Musim\")\n",
    "    st.write(\"Pengaruh hari kerja/ akhir pekan terhadap peminjaman untuk setiap musim?\")\n",
    "    st.write(\"Melakukan pemetaan tabel menggunakan pivot table\")\n",
    "    data_holiday = data_df.groupby(by=\"season\").agg({\n",
    "        \"casual\": \"nunique\",\n",
    "        \"registered\": \"nunique\",\n",
    "    })\n",
    "    st.write(data_holiday)\n",
    "    st.write('Grafik')\n",
    "    data_holiday['total'] = data_holiday['casual'] + data_holiday['registered']\n",
    "    fig, ax = plt.subplots()\n",
    "    sns.scatterplot(data=data_holiday, x='season', y='casual', ax=ax)\n",
    "    sns.scatterplot(data=data_holiday, x='season', y='registered', ax=ax)\n",
    "    ax.set_ylim(150, 190)\n",
    "    st.pyplot(fig)\n"
   ]
  },
  {
   "cell_type": "markdown",
   "metadata": {},
   "source": [
    "## Conclusion"
   ]
  },
  {
   "cell_type": "markdown",
   "metadata": {},
   "source": [
    "- Conclution pertanyaan 1"
   ]
  },
  {
   "cell_type": "markdown",
   "metadata": {},
   "source": [
    "Dari kesimpulan, didapatkan infomasi mengenai peminjam terbanyak pada musim tertentu, dan dari data hasil analisis tersebut dapat dilihat secara tidak langsung mengapa salah satu musim memiliki peminjam lebih banyak dari musim yang lain"
   ]
  },
  {
   "cell_type": "code",
   "execution_count": 123,
   "metadata": {},
   "outputs": [],
   "source": [
    "\n",
    "def main():\n",
    "    st.title('Analisis Data Bike Sharing')\n",
    "    data_df = load_data()\n",
    "    \n",
    "    menu = [\"Gathering Data\", \"Assessing Data\", \"Cleaning Data\", \"Exploratory Data Analysis (EDA)\"]\n",
    "    choice = st.sidebar.selectbox(\"Pilihan Menu\", menu)\n",
    "\n",
    "    if choice == \"Gathering Data\":\n",
    "        gather_data(data_df)\n",
    "    elif choice == \"Assessing Data\":\n",
    "        assess_data(data_df)\n",
    "    elif choice == \"Cleaning Data\":\n",
    "        clean_data_display(data_df)\n",
    "    elif choice == \"Exploratory Data Analysis (EDA)\":\n",
    "        eda_questions(data_df)\n",
    "        \n",
    "    # Kesimpulan Pertanyaan 1\n",
    "    st.subheader('Kesimpulan Pertanyaan 1:')\n",
    "    total_rental_per_season = data_df.groupby('season')[['casual', 'registered']].sum()  # Menggunakan sum untuk mendapatkan jumlah total peminjaman\n",
    "    st.write(\"Berdasarkan analisis, terlihat bahwa distribusi peminjaman berbeda-beda untuk setiap musim dan kondisi cuaca.\")\n",
    "    st.write(\"Total peminjaman untuk masing-masing musim:\")\n",
    "    st.write(total_rental_per_season)\n",
    "    \n",
    "    max_season = total_rental_per_season.sum(axis=1).idxmax()  # Menggunakan sum(axis=1) untuk mendapatkan total peminjama\n",
    "    min_season = total_rental_per_season.sum(axis=1).idxmin()  # Menggunakan sum(axis=1) untuk mendapatkan total peminjaman\n",
    "    \n",
    "    seasons_map = {'Spring': 'Spring (Musim Semi)', 'Summer': 'Summer (Musim Panas)', 'Fall': 'Fall (Musim Gugur)', 'Winter': 'Winter (Musim Dingin)'}\n",
    "    \n",
    "    st.write(f\"Peminjam terbanyak berada pada {seasons_map[max_season]} dan peminjam paling sedikit berada pada {seasons_map[min_season]}.\")\n",
    "    \n",
    "\n",
    "    if __name__ == \"__main__\":\n",
    "        main()"
   ]
  },
  {
   "cell_type": "markdown",
   "metadata": {},
   "source": [
    "- Conclution pertanyaan 2 : "
   ]
  },
  {
   "cell_type": "markdown",
   "metadata": {},
   "source": [
    "Dari Kesimpulan didapatkan pernyataan yang digabungkan dengan string jumlah peminjam terbanyak pada hari terkait yaitu pada hari kerja ataupun akhir pekan, hal ini selanjutnya dapat digunakan untuk menganalisis kenapa perilaku demikian terjadi"
   ]
  },
  {
   "cell_type": "code",
   "execution_count": 124,
   "metadata": {},
   "outputs": [],
   "source": [
    "def main():\n",
    "    st.title('Analisis Data Bike Sharing')\n",
    "    data_df = load_data()\n",
    "    \n",
    "    menu = [\"Gathering Data\", \"Assessing Data\", \"Cleaning Data\", \"Exploratory Data Analysis (EDA)\"]\n",
    "    choice = st.sidebar.selectbox(\"Pilihan Menu\", menu)\n",
    "\n",
    "    if choice == \"Gathering Data\":\n",
    "        gather_data(data_df)\n",
    "    elif choice == \"Assessing Data\":\n",
    "        assess_data(data_df)\n",
    "    elif choice == \"Cleaning Data\":\n",
    "        clean_data_display(data_df)\n",
    "    elif choice == \"Exploratory Data Analysis (EDA)\":\n",
    "        eda_questions(data_df)    \n",
    "        \n",
    "    # Kesimpulan Pertanyaan 2\n",
    "    st.subheader('Kesimpulan Pertanyaan 2:')\n",
    "    weekday_vs_weekend = data_df.groupby('weekday')['cnt'].sum()\n",
    "    st.write(\"Berdasarkan analisis, terdapat hubungan antara hari kerja/akhir pekan dengan jumlah peminjaman untuk setiap musim.\")\n",
    "    st.write(\"Total peminjaman pada hari kerja vs akhir pekan:\")\n",
    "    st.write(weekday_vs_weekend)\n",
    "    \n",
    "    max_day = weekday_vs_weekend.idxmax()\n",
    "    min_day = weekday_vs_weekend.idxmin()\n",
    "    \n",
    "    days_map = {0: 'Minggu', 1: 'Senin', 2: 'Selasa', 3: 'Rabu', 4: 'Kamis', 5: 'Jumat', 6: 'Sabtu'}\n",
    "    \n",
    "    st.write(f\"Peminjam terbanyak berada pada hari {days_map[max_day]} dan peminjam paling sedikit berada pada hari {days_map[min_day]}.\")\n"
   ]
  }
 ],
 "metadata": {
  "kernelspec": {
   "display_name": ".venv",
   "language": "python",
   "name": "python3"
  },
  "language_info": {
   "codemirror_mode": {
    "name": "ipython",
    "version": 3
   },
   "file_extension": ".py",
   "mimetype": "text/x-python",
   "name": "python",
   "nbconvert_exporter": "python",
   "pygments_lexer": "ipython3",
   "version": "3.12.2"
  }
 },
 "nbformat": 4,
 "nbformat_minor": 2
}
